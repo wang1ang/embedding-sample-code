{
 "cells": [
  {
   "cell_type": "code",
   "execution_count": 2,
   "metadata": {},
   "outputs": [
    {
     "name": "stderr",
     "output_type": "stream",
     "text": [
      "C:\\Users\\yangwa\\AppData\\Local\\Continuum\\miniconda2\\envs\\py36\\lib\\site-packages\\h5py\\__init__.py:72: UserWarning: h5py is running against HDF5 1.10.2 when it was built against 1.10.3, this may cause problems\n",
      "  '{0}.{1}.{2}'.format(*version.hdf5_built_version_tuple)\n"
     ]
    }
   ],
   "source": [
    "import tensorflow as tf"
   ]
  },
  {
   "cell_type": "code",
   "execution_count": 3,
   "metadata": {},
   "outputs": [],
   "source": [
    "def approx_ranks(logits, alpha=10.):\n",
    "    list_size = tf.shape(input=logits)[1]\n",
    "    x = tf.tile(tf.expand_dims(logits, 2), [1, 1, list_size])\n",
    "    y = tf.tile(tf.expand_dims(logits, 1), [1, list_size, 1])\n",
    "    pairs = tf.sigmoid(alpha * (y - x))\n",
    "    return tf.reduce_sum(input_tensor=pairs, axis=-1) + .5"
   ]
  },
  {
   "cell_type": "code",
   "execution_count": 4,
   "metadata": {},
   "outputs": [],
   "source": [
    "def get_ranks(scores):\n",
    "    x = tf.expand_dims(scores, 2)\n",
    "    y = tf.expand_dims(scores, 1)\n",
    "    #pairs = tf.nn.relu(tf.sign(y-x))\n",
    "    pairs = tf.sign(y-x) + 1\n",
    "    return (tf.reduce_sum(input_tensor=pairs, axis=-1) + 1)/2"
   ]
  },
  {
   "cell_type": "code",
   "execution_count": 5,
   "metadata": {},
   "outputs": [],
   "source": [
    "logits = tf.placeholder(shape=[1, 10], dtype=tf.float32)\n",
    "aranks = approx_ranks(logits)"
   ]
  },
  {
   "cell_type": "code",
   "execution_count": 6,
   "metadata": {},
   "outputs": [],
   "source": [
    "ranks = get_ranks(logits)"
   ]
  },
  {
   "cell_type": "code",
   "execution_count": 7,
   "metadata": {},
   "outputs": [],
   "source": [
    "config = tf.ConfigProto()\n",
    "config.gpu_options.allow_growth = True\n",
    "sess = tf.Session(config = config)"
   ]
  },
  {
   "cell_type": "code",
   "execution_count": 9,
   "metadata": {},
   "outputs": [
    {
     "data": {
      "text/plain": [
       "array([[  8.,   5.,   9.,   6.,   1.,   2.,   4.,   7.,   3.,  10.]], dtype=float32)"
      ]
     },
     "execution_count": 9,
     "metadata": {},
     "output_type": "execute_result"
    }
   ],
   "source": [
    "sess.run(ranks, feed_dict={\n",
    "    logits: [[3,6,2,5,10,9,7,4,8,1]]\n",
    "})"
   ]
  },
  {
   "cell_type": "code",
   "execution_count": 10,
   "metadata": {},
   "outputs": [
    {
     "data": {
      "text/plain": [
       "array([[ 4. ,  2. ,  6. ,  5. ,  7.5,  7.5,  9.5,  1. ,  3. ,  9.5]], dtype=float32)"
      ]
     },
     "execution_count": 10,
     "metadata": {},
     "output_type": "execute_result"
    }
   ],
   "source": [
    "sess.run(ranks, feed_dict={\n",
    "    logits: [[4,7,2,3,1,1,0,9,6,0]]\n",
    "})"
   ]
  },
  {
   "cell_type": "code",
   "execution_count": null,
   "metadata": {},
   "outputs": [],
   "source": [
    "sess.run(ranks, feed_dict={\n",
    "    logits: [[]]\n",
    "})"
   ]
  },
  {
   "cell_type": "code",
   "execution_count": 13,
   "metadata": {},
   "outputs": [
    {
     "data": {
      "text/plain": [
       "array([[ 9.99995422,  9.        ,  8.        ,  7.        ,  6.        ,\n",
       "         5.        ,  4.        ,  3.        ,  2.        ,  1.00004542]], dtype=float32)"
      ]
     },
     "execution_count": 13,
     "metadata": {},
     "output_type": "execute_result"
    }
   ],
   "source": [
    "sess.run(aranks, feed_dict={\n",
    "    logits: [[1,2,3,4,5,6,7,8,9,10]]\n",
    "})"
   ]
  }
 ],
 "metadata": {
  "kernelspec": {
   "display_name": "Python 3",
   "language": "python",
   "name": "python3"
  },
  "language_info": {
   "codemirror_mode": {
    "name": "ipython",
    "version": 3
   },
   "file_extension": ".py",
   "mimetype": "text/x-python",
   "name": "python",
   "nbconvert_exporter": "python",
   "pygments_lexer": "ipython3",
   "version": "3.6.6"
  }
 },
 "nbformat": 4,
 "nbformat_minor": 2
}
