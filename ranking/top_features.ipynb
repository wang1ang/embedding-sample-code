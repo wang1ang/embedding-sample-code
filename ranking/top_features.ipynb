{
 "cells": [
  {
   "cell_type": "code",
   "execution_count": 37,
   "metadata": {},
   "outputs": [],
   "source": [
    "import os\n",
    "import numpy as np\n",
    "\n",
    "def load_feat_stat():\n",
    "    temp_file = 'feat_stat.npy'\n",
    "    moments = np.load(temp_file)\n",
    "    moments = moments.item()\n",
    "    m = [moments[field][0] for field in header]\n",
    "    m2 = [moments[field][1] for field in header]\n",
    "    var = m2# - m**2\n",
    "    dev = np.sqrt(var)\n",
    "    return dev\n",
    "dev = load_feat_stat()"
   ]
  },
  {
   "cell_type": "code",
   "execution_count": 56,
   "metadata": {},
   "outputs": [],
   "source": [
    "def load_header(model_path):\n",
    "    header_file = os.path.join(model_path, 'selected_header.txt')\n",
    "    with open(header_file, 'r') as f:\n",
    "        header = f.readlines()\n",
    "    header = [h.rstrip() for h in header]\n",
    "    return header\n",
    "#model_path = r'models\\bingsat_reg_adam_batch_topfeat'\n",
    "#model_path = r'models\\bingsat_reg_adam_batch_log_bucket_topfeat'\n",
    "model_path = r'models\\bingsat_rank_dense'\n",
    "header = load_header(model_path)"
   ]
  },
  {
   "cell_type": "code",
   "execution_count": 57,
   "metadata": {},
   "outputs": [],
   "source": [
    "import tensorflow as tf\n",
    "def load_ckpt(model_path):\n",
    "    ckpt = tf.train.latest_checkpoint(model_path)\n",
    "    \"\"\"\n",
    "    config = tf.ConfigProto()\n",
    "    config.gpu_options.allow_growth = True\n",
    "    sess = tf.Session(config = config)\n",
    "    saver = tf.train.import_meta_graph(ckpt + '.meta')\n",
    "    saver.restore(sess, ckpt)\n",
    "    \"\"\"\n",
    "    \"\"\"from tensorflow.python.tools.inspect_checkpoint import print_tensors_in_checkpoint_file\n",
    "    all_vars = tf.get_collection(tf.ops.GraphKeys.GLOBAL_VARIABLES)\n",
    "    \"\"\"\n",
    "    reader = tf.train.NewCheckpointReader(ckpt)\n",
    "    variables = reader.get_variable_to_shape_map()\n",
    "    return reader, variables\n",
    "reader, vairables = load_ckpt(model_path)"
   ]
  },
  {
   "cell_type": "code",
   "execution_count": 60,
   "metadata": {},
   "outputs": [
    {
     "name": "stdout",
     "output_type": "stream",
     "text": [
      "(6903, 1)\n"
     ]
    }
   ],
   "source": [
    "print (np.reshape(w, (-1,1)).shape)"
   ]
  },
  {
   "cell_type": "code",
   "execution_count": 61,
   "metadata": {},
   "outputs": [
    {
     "data": {
      "image/png": "[encoded data removed]",
      "text/plain": [
       "<Figure size 432x288 with 1 Axes>"
      ]
     },
     "metadata": {
      "needs_background": "light"
     },
     "output_type": "display_data"
    }
   ],
   "source": [
    "#import operator\n",
    "%matplotlib inline\n",
    "ws = reader.get_tensor('net/layer_2/kernel')\n",
    "ws = np.squeeze(ws)\n",
    "if len(ws.shape) == 1:\n",
    "    ws = np.reshape(ws, (-1, 1))\n",
    "for c in range(ws.shape[-1]):\n",
    "    w = ws[:, c]\n",
    "    d = {header[i]:w[i] for i in range(len(w))}\n",
    "    #s = sorted(d.items(), key=operator.itemgetter(1))\n",
    "    s = sorted(d.items(), key=lambda kv: kv[1], reverse=True)\n",
    "    #for k,v in s:\n",
    "    #    print (k, v)\n",
    "    from matplotlib import pyplot as plt\n",
    "\n",
    "    v = [v for k,v in s]\n",
    "    plt.plot(v)\n",
    "    with open ('weights_top_rank{}.txt'.format(c), 'w') as f:\n",
    "        f.writelines(['{}\\t{}\\n'.format(k, v) for k,v in s])"
   ]
  },
  {
   "cell_type": "code",
   "execution_count": 64,
   "metadata": {},
   "outputs": [
    {
     "name": "stdout",
     "output_type": "stream",
     "text": [
      "399\n"
     ]
    },
    {
     "data": {
      "text/plain": [
       "\"\\ntop_feat = set()\\nfor file in ['weights.txt', 'weights_2.txt']:\\n    with open(file, 'r') as f:\\n        for i in range(300):\\n            line = f.readline()\\n            top_feat.add(line.split()[0])\\nwith open('top_feature_list.txt', 'w') as f:\\n    for feat in sorted(top_feat):\\n        f.write(feat+'\\n')\\n\""
      ]
     },
     "execution_count": 64,
     "metadata": {},
     "output_type": "execute_result"
    }
   ],
   "source": [
    "# dump top features\n",
    "def dump_by_threshold(files, ofile, th):\n",
    "    top_feat = set()\n",
    "    for file in files:\n",
    "        with open(file, 'r') as f:\n",
    "            for line in f:\n",
    "                feat, weight = line.rstrip().split()\n",
    "                if abs(float(weight)) > th:\n",
    "                    top_feat.add(feat)\n",
    "    top_feat = sorted(top_feat)\n",
    "    with open(ofile, 'w') as f:\n",
    "        for feat in top_feat:\n",
    "            f.write(feat+'\\n')\n",
    "    return top_feat\n",
    "top_feat = dump_by_threshold(['weights_top_rank{}.txt'.format(c) for c in range(ws.shape[-1])], 'top_feature_list_rank.txt', 0.01)\n",
    "print (len(top_feat))\n",
    "\"\"\"\n",
    "top_feat = set()\n",
    "for file in ['weights.txt', 'weights_2.txt']:\n",
    "    with open(file, 'r') as f:\n",
    "        for i in range(300):\n",
    "            line = f.readline()\n",
    "            top_feat.add(line.split()[0])\n",
    "with open('top_feature_list.txt', 'w') as f:\n",
    "    for feat in sorted(top_feat):\n",
    "        f.write(feat+'\\n')\n",
    "\"\"\""
   ]
  },
  {
   "cell_type": "code",
   "execution_count": 65,
   "metadata": {},
   "outputs": [],
   "source": [
    "def load_header(model_path):\n",
    "    header_file = os.path.join(model_path, 'selected_header.txt')\n",
    "    with open(header_file, 'r') as f:\n",
    "        header = f.readlines()\n",
    "    return [h.rstrip() for h in header]\n",
    "def load_dev(header):\n",
    "    temp_file = 'feat_stat.npy'\n",
    "    moments = np.load(temp_file)\n",
    "    moments = moments.item()\n",
    "    m = [moments[field][0] for field in header]\n",
    "    m2 = [moments[field][1] for field in header]\n",
    "    var = m2# - m**2\n",
    "    return np.sqrt(var)\n",
    "def weights2freeform(weights_file, model_path, ff_file):\n",
    "    # load weights\n",
    "    weights = {}\n",
    "    with open(weights_file, 'r') as f:\n",
    "        for line in f:\n",
    "            tokens = line.rstrip().split()\n",
    "            weights[tokens[0]] = float(tokens[1])\n",
    "            #if len(weights) > 32:\n",
    "            #    break\n",
    "    header = load_header(model_path)\n",
    "    dev = load_dev(header)\n",
    "\n",
    "    ff = ''\n",
    "    for i, h in enumerate(header):\n",
    "        if h not in weights:\n",
    "            continue\n",
    "        coef = weights[h] / dev[i]\n",
    "        mul = '(* {} {})'.format(coef, h)\n",
    "        if len(ff) == 0:\n",
    "            ff = mul\n",
    "        else:\n",
    "            ff = '(+ {} {})'.format(mul, ff)\n",
    "    with open(ff_file, 'w') as f:\n",
    "        f.write(ff+'\\n')\n",
    "#weights2freeform('weights_top_4.txt', r'models\\bingsat_reg_adam_batch_topfeat', 'freeform_32.txt')\n",
    "weights2freeform('weights_top_rank0.txt', r'models\\bingsat_rank_dense', 'freeform_rank_dense.txt')\n",
    "#for i in range(4):\n",
    "#    weights2freeform(f'weights_top_c{i}.txt', r'models\\bingsat_reg_adam_batch_log_bucket_topfeat', f'freeform_c{i}.txt')"
   ]
  }
 ],
 "metadata": {
  "kernelspec": {
   "display_name": "Python 3",
   "language": "python",
   "name": "python3"
  },
  "language_info": {
   "codemirror_mode": {
    "name": "ipython",
    "version": 3
   },
   "file_extension": ".py",
   "mimetype": "text/x-python",
   "name": "python",
   "nbconvert_exporter": "python",
   "pygments_lexer": "ipython3",
   "version": "3.6.6"
  }
 },
 "nbformat": 4,
 "nbformat_minor": 2
}
