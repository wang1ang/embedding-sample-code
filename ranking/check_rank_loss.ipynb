{
 "cells": [
  {
   "cell_type": "code",
   "execution_count": 1,
   "metadata": {},
   "outputs": [
    {
     "name": "stderr",
     "output_type": "stream",
     "text": [
      "C:\\Users\\yangwa\\AppData\\Local\\Continuum\\miniconda2\\envs\\py36\\lib\\site-packages\\h5py\\__init__.py:72: UserWarning: h5py is running against HDF5 1.10.2 when it was built against 1.10.3, this may cause problems\n",
      "  '{0}.{1}.{2}'.format(*version.hdf5_built_version_tuple)\n"
     ]
    }
   ],
   "source": [
    "from __future__ import absolute_import, division, print_function\n",
    "import tensorflow as tf"
   ]
  },
  {
   "cell_type": "code",
   "execution_count": 2,
   "metadata": {},
   "outputs": [
    {
     "name": "stdout",
     "output_type": "stream",
     "text": [
      "feature size:6903\n"
     ]
    }
   ],
   "source": [
    "from data import DataFeeder\n",
    "files = ['data\\\\head_{}.gz'.format(i) for i in range(1, 6)]\n",
    "data = DataFeeder(files, 10)\n",
    "data_train = data.data_tensor(True)"
   ]
  },
  {
   "cell_type": "code",
   "execution_count": 3,
   "metadata": {},
   "outputs": [],
   "source": [
    "x = tf.placeholder(tf.float32, [None, 6903], 'features')\n",
    "r = tf.placeholder(tf.float32, [None], 'rating')\n",
    "# tf.nn.tanh\n",
    "# name=scope\n",
    "with tf.variable_scope('net'):\n",
    "    # tf.initializers.glorot_normal()\n",
    "    s = tf.layers.dense(x, units=1, activation=None, kernel_initializer=tf.truncated_normal_initializer(stddev=0.000000001), kernel_regularizer=tf.contrib.layers.l2_regularizer(0.0004), name='layer_1')\n",
    "with tf.variable_scope('loss'):\n",
    "    # ground truth\n",
    "    r_trans = tf.reshape(r, [1, -1])\n",
    "    r_ = tf.reshape(r, [-1, 1])\n",
    "    p = tf.sign(r_ - r_trans)\n",
    "    # score\n",
    "    s_trans = tf.reshape(s, [1, -1])\n",
    "    diff = s - s_trans\n",
    "    # loss\n",
    "    #log_loss = tf.math.softplus(-(p * diff))\n",
    "    log_loss = tf.nn.relu(-(p * diff))\n",
    "    log_loss = tf.reduce_sum(log_loss)\n"
   ]
  },
  {
   "cell_type": "code",
   "execution_count": 4,
   "metadata": {},
   "outputs": [
    {
     "name": "stdout",
     "output_type": "stream",
     "text": [
      "epoch 0\n",
      "(epoch 0) reading data\\head_2.gz\n"
     ]
    }
   ],
   "source": [
    "sess = tf.Session()\n",
    "features = sess.run(data_train)"
   ]
  },
  {
   "cell_type": "code",
   "execution_count": 13,
   "metadata": {},
   "outputs": [],
   "source": [
    "init_op = tf.global_variables_initializer()\n",
    "sess.run(init_op)"
   ]
  },
  {
   "cell_type": "code",
   "execution_count": 5,
   "metadata": {},
   "outputs": [],
   "source": [
    "feed_dict = {\n",
    "    x: features['features'],\n",
    "    r: features['rating']\n",
    "}"
   ]
  },
  {
   "cell_type": "code",
   "execution_count": 6,
   "metadata": {},
   "outputs": [
    {
     "name": "stdout",
     "output_type": "stream",
     "text": [
      "(10, 6903)\n"
     ]
    }
   ],
   "source": [
    "print (features['features'].shape)"
   ]
  },
  {
   "cell_type": "code",
   "execution_count": 17,
   "metadata": {},
   "outputs": [
    {
     "name": "stdout",
     "output_type": "stream",
     "text": [
      "[[ 0. -1. -1. -1. -1. -1. -1.  0. -1. -1.]\n",
      " [ 1.  0. -1.  1.  1. -1. -1.  1. -1.  1.]\n",
      " [ 1.  1.  0.  1.  1.  0.  0.  1.  0.  1.]\n",
      " [ 1. -1. -1.  0. -1. -1. -1.  1. -1.  0.]\n",
      " [ 1. -1. -1.  1.  0. -1. -1.  1. -1.  1.]\n",
      " [ 1.  1.  0.  1.  1.  0.  0.  1.  0.  1.]\n",
      " [ 1.  1.  0.  1.  1.  0.  0.  1.  0.  1.]\n",
      " [ 0. -1. -1. -1. -1. -1. -1.  0. -1. -1.]\n",
      " [ 1.  1.  0.  1.  1.  0.  0.  1.  0.  1.]\n",
      " [ 1. -1. -1.  0. -1. -1. -1.  1. -1.  0.]]\n"
     ]
    }
   ],
   "source": [
    "result = sess.run(p, feed_dict=feed_dict)\n",
    "print (result)"
   ]
  },
  {
   "cell_type": "code",
   "execution_count": 18,
   "metadata": {},
   "outputs": [
    {
     "data": {
      "text/plain": [
       "array([  0.,  10.,  30.,   8.,   9.,  30.,  30.,   0.,  30.,   8.], dtype=float32)"
      ]
     },
     "execution_count": 18,
     "metadata": {},
     "output_type": "execute_result"
    }
   ],
   "source": [
    "features['rating']"
   ]
  },
  {
   "cell_type": "code",
   "execution_count": 19,
   "metadata": {},
   "outputs": [
    {
     "name": "stdout",
     "output_type": "stream",
     "text": [
      "[[ 0.05618896]\n",
      " [-6.91015816]\n",
      " [ 0.02507003]\n",
      " [ 0.04548552]\n",
      " [-0.47460976]\n",
      " [ 8.67575455]\n",
      " [-1.09109664]\n",
      " [ 0.05251767]\n",
      " [ 0.03010756]\n",
      " [ 0.05273222]]\n"
     ]
    }
   ],
   "source": [
    "result = sess.run(s, feed_dict=feed_dict)\n",
    "print (result)"
   ]
  },
  {
   "cell_type": "code",
   "execution_count": 20,
   "metadata": {},
   "outputs": [
    {
     "name": "stdout",
     "output_type": "stream",
     "text": [
      "[[  0.00000000e+00   6.96634722e+00   3.11189331e-02   1.07034408e-02\n",
      "    5.30798733e-01  -8.61956596e+00   1.14728558e+00   3.67128477e-03\n",
      "    2.60814019e-02   3.45673785e-03]\n",
      " [ -6.96634722e+00   0.00000000e+00  -6.93522835e+00  -6.95564365e+00\n",
      "   -6.43554831e+00  -1.55859127e+01  -5.81906128e+00  -6.96267605e+00\n",
      "   -6.94026566e+00  -6.96289015e+00]\n",
      " [ -3.11189331e-02   6.93522835e+00   0.00000000e+00  -2.04154924e-02\n",
      "    4.99679804e-01  -8.65068436e+00   1.11616671e+00  -2.74476483e-02\n",
      "   -5.03753126e-03  -2.76621953e-02]\n",
      " [ -1.07034408e-02   6.95564365e+00   2.04154924e-02   0.00000000e+00\n",
      "    5.20095289e-01  -8.63026905e+00   1.13658214e+00  -7.03215599e-03\n",
      "    1.53779611e-02  -7.24670291e-03]\n",
      " [ -5.30798733e-01   6.43554831e+00  -4.99679804e-01  -5.20095289e-01\n",
      "    0.00000000e+00  -9.15036392e+00   6.16486907e-01  -5.27127445e-01\n",
      "   -5.04717350e-01  -5.27341962e-01]\n",
      " [  8.61956596e+00   1.55859127e+01   8.65068436e+00   8.63026905e+00\n",
      "    9.15036392e+00   0.00000000e+00   9.76685143e+00   8.62323666e+00\n",
      "    8.64564705e+00   8.62302208e+00]\n",
      " [ -1.14728558e+00   5.81906128e+00  -1.11616671e+00  -1.13658214e+00\n",
      "   -6.16486907e-01  -9.76685143e+00   0.00000000e+00  -1.14361429e+00\n",
      "   -1.12120414e+00  -1.14382887e+00]\n",
      " [ -3.67128477e-03   6.96267605e+00   2.74476483e-02   7.03215599e-03\n",
      "    5.27127445e-01  -8.62323666e+00   1.14361429e+00   0.00000000e+00\n",
      "    2.24101171e-02  -2.14546919e-04]\n",
      " [ -2.60814019e-02   6.94026566e+00   5.03753126e-03  -1.53779611e-02\n",
      "    5.04717350e-01  -8.64564705e+00   1.12120414e+00  -2.24101171e-02\n",
      "    0.00000000e+00  -2.26246640e-02]\n",
      " [ -3.45673785e-03   6.96289015e+00   2.76621953e-02   7.24670291e-03\n",
      "    5.27341962e-01  -8.62302208e+00   1.14382887e+00   2.14546919e-04\n",
      "    2.26246640e-02   0.00000000e+00]]\n"
     ]
    }
   ],
   "source": [
    "result = sess.run(diff, feed_dict=feed_dict)\n",
    "print (result)"
   ]
  }
 ],
 "metadata": {
  "kernelspec": {
   "display_name": "Python 3",
   "language": "python",
   "name": "python3"
  },
  "language_info": {
   "codemirror_mode": {
    "name": "ipython",
    "version": 3
   },
   "file_extension": ".py",
   "mimetype": "text/x-python",
   "name": "python",
   "nbconvert_exporter": "python",
   "pygments_lexer": "ipython3",
   "version": "3.6.6"
  }
 },
 "nbformat": 4,
 "nbformat_minor": 2
}
